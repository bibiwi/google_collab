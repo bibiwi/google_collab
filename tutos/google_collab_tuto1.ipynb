{
  "nbformat": 4,
  "nbformat_minor": 0,
  "metadata": {
    "colab": {
      "name": "google_collab_tuto1.ipynb",
      "provenance": [],
      "authorship_tag": "ABX9TyNxwnzPRlFQ6vkXbT14ucIg",
      "include_colab_link": true
    },
    "kernelspec": {
      "name": "python3",
      "display_name": "Python 3"
    },
    "language_info": {
      "name": "python"
    }
  },
  "cells": [
    {
      "cell_type": "markdown",
      "metadata": {
        "id": "view-in-github",
        "colab_type": "text"
      },
      "source": [
        "<a href=\"https://colab.research.google.com/github/bibiwi/google_collab/blob/main/tutos/google_collab_tuto1.ipynb\" target=\"_parent\"><img src=\"https://colab.research.google.com/assets/colab-badge.svg\" alt=\"Open In Colab\"/></a>"
      ]
    },
    {
      "cell_type": "markdown",
      "metadata": {
        "id": "XI_jeYTTgAYa"
      },
      "source": [
        "Author: Bibiwi<br>\n",
        "Date: 2021/07/18<br>\n",
        "Description: First tuto of Google Collab\n",
        "*   Github links"
      ]
    },
    {
      "cell_type": "code",
      "metadata": {
        "colab": {
          "base_uri": "https://localhost:8080/",
          "height": 35
        },
        "id": "KkqWlZlibxx6",
        "outputId": "cda0b804-bec9-4211-ba08-cd7302c43ec6"
      },
      "source": [
        "str_var=\"hello world\"\n",
        "str_var"
      ],
      "execution_count": 1,
      "outputs": [
        {
          "output_type": "execute_result",
          "data": {
            "application/vnd.google.colaboratory.intrinsic+json": {
              "type": "string"
            },
            "text/plain": [
              "'hello world'"
            ]
          },
          "metadata": {
            "tags": []
          },
          "execution_count": 1
        }
      ]
    },
    {
      "cell_type": "markdown",
      "metadata": {
        "id": "hAXKL6Y9f_Pj"
      },
      "source": [
        ""
      ]
    }
  ]
}